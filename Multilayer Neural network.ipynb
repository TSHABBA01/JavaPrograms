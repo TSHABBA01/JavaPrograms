{
  "nbformat": 4,
  "nbformat_minor": 0,
  "metadata": {
    "colab": {
      "provenance": [],
      "authorship_tag": "ABX9TyPLnQhHOsz43qzXZMb8bsDu",
      "include_colab_link": true
    },
    "kernelspec": {
      "name": "python3",
      "display_name": "Python 3"
    },
    "language_info": {
      "name": "python"
    }
  },
  "cells": [
    {
      "cell_type": "markdown",
      "metadata": {
        "id": "view-in-github",
        "colab_type": "text"
      },
      "source": [
        "<a href=\"https://colab.research.google.com/github/TSHABBA01/JavaPrograms/blob/main/Multilayer%20Neural%20network.ipynb\" target=\"_parent\"><img src=\"https://colab.research.google.com/assets/colab-badge.svg\" alt=\"Open In Colab\"/></a>"
      ]
    },
    {
      "cell_type": "code",
      "execution_count": null,
      "metadata": {
        "colab": {
          "base_uri": "https://localhost:8080/",
          "height": 906
        },
        "id": "sG7c6Bwy-oj1",
        "outputId": "19eac851-d5cd-47af-ed82-07f732ba6703"
      },
      "outputs": [
        {
          "output_type": "stream",
          "name": "stdout",
          "text": [
            "Class Distribution:\n",
            "Class\n",
            "Osmancik    2180\n",
            "Cammeo      1630\n",
            "Name: count, dtype: int64\n",
            "Cross-validated Accuracy: 0.9247\n",
            "\n",
            "Confusion Matrix:\n",
            "[[432  57]\n",
            " [ 33 621]]\n",
            "\n",
            "Accuracy: 0.9213\n",
            "Precision (macro): 0.9225\n",
            "Sensitivity / Recall (macro): 0.9165\n",
            "F1 Score (macro): 0.9190\n"
          ]
        },
        {
          "output_type": "display_data",
          "data": {
            "text/plain": [
              "<Figure size 640x480 with 2 Axes>"
            ],
            "image/png": "[encoded data removed]"
          },
          "metadata": {}
        },
        {
          "output_type": "stream",
          "name": "stdout",
          "text": [
            "\n",
            "Feature Importances:\n",
            "             Feature  Importance\n",
            "2  Major_Axis_Length    0.292893\n",
            "1          Perimeter    0.238058\n",
            "0               Area    0.158715\n",
            "5        Convex_Area    0.156717\n",
            "4       Eccentricity    0.082345\n",
            "3  Minor_Axis_Length    0.039906\n",
            "6             Extent    0.031365\n"
          ]
        }
      ],
      "source": [
        "import pandas as pd\n",
        "from scipy.io import arff\n",
        "from sklearn.ensemble import RandomForestClassifier\n",
        "from sklearn.model_selection import train_test_split, cross_val_score, StratifiedKFold\n",
        "from sklearn.metrics import (\n",
        "    confusion_matrix, accuracy_score, precision_score,\n",
        "    recall_score, f1_score\n",
        ")\n",
        "import seaborn as sns\n",
        "import matplotlib.pyplot as plt\n",
        "\n",
        "# Load ARFF file\n",
        "data, meta = arff.loadarff(\"Rice_Cammeo_Osmancik.arff\")\n",
        "df = pd.DataFrame(data)\n",
        "\n",
        "# Decode byte strings in 'Class' column\n",
        "df['Class'] = df['Class'].apply(lambda x: x.decode('utf-8'))\n",
        "\n",
        "# Show class distribution\n",
        "print(\"Class Distribution:\")\n",
        "print(df['Class'].value_counts())\n",
        "\n",
        "# Features and target\n",
        "X = df.drop('Class', axis=1)\n",
        "y = df['Class']\n",
        "\n",
        "# Train-test split\n",
        "X_train, X_test, y_train, y_test = train_test_split(\n",
        "    X, y, test_size=0.30, stratify=y, random_state=42\n",
        ")\n",
        "\n",
        "# Random Forest model with further optimized hyperparameters\n",
        "clf = RandomForestClassifier(\n",
        "    n_estimators=1000,\n",
        "    max_depth=30,\n",
        "    min_samples_split=2,\n",
        "    min_samples_leaf=1,\n",
        "    class_weight='balanced',\n",
        "    random_state=42,\n",
        "    bootstrap=True,\n",
        "    max_features='log2'\n",
        ")\n",
        "\n",
        "# Fit the model\n",
        "clf.fit(X_train, y_train)\n",
        "\n",
        "# Cross-validation\n",
        "cv = StratifiedKFold(n_splits=5, shuffle=True, random_state=42)\n",
        "cv_scores = cross_val_score(clf, X, y, cv=cv, scoring='accuracy')\n",
        "print(f\"Cross-validated Accuracy: {cv_scores.mean():.4f}\")\n",
        "\n",
        "# Predictions\n",
        "y_pred = clf.predict(X_test)\n",
        "\n",
        "# Evaluation metrics\n",
        "conf_matrix = confusion_matrix(y_test, y_pred)\n",
        "accuracy = accuracy_score(y_test, y_pred)\n",
        "precision = precision_score(y_test, y_pred, average='macro')\n",
        "recall = recall_score(y_test, y_pred, average='macro')  # Sensitivity\n",
        "f1 = f1_score(y_test, y_pred, average='macro')\n",
        "\n",
        "# Output results\n",
        "print(\"\\nConfusion Matrix:\")\n",
        "print(conf_matrix)\n",
        "print(f\"\\nAccuracy: {accuracy:.4f}\")\n",
        "print(f\"Precision (macro): {precision:.4f}\")\n",
        "print(f\"Sensitivity / Recall (macro): {recall:.4f}\")\n",
        "print(f\"F1 Score (macro): {f1:.4f}\")\n",
        "\n",
        "# Plot confusion matrix\n",
        "sns.heatmap(conf_matrix, annot=True, fmt='d', cmap='Blues')\n",
        "plt.xlabel('Predicted')\n",
        "plt.ylabel('Actual')\n",
        "plt.title('Confusion Matrix')\n",
        "plt.show()\n",
        "\n",
        "# Feature importance\n",
        "importances = clf.feature_importances_\n",
        "feature_names = X.columns\n",
        "importance_df = pd.DataFrame({'Feature': feature_names, 'Importance': importances})\n",
        "print(\"\\nFeature Importances:\")\n",
        "print(importance_df.sort_values(by='Importance', ascending=False))\n"
      ]
    }
  ]
}