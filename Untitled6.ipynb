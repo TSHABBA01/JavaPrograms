{
  "nbformat": 4,
  "nbformat_minor": 0,
  "metadata": {
    "colab": {
      "provenance": [],
      "authorship_tag": "ABX9TyOxJ5pTFtqD5hfpbNQsyo+f",
      "include_colab_link": true
    },
    "kernelspec": {
      "name": "python3",
      "display_name": "Python 3"
    },
    "language_info": {
      "name": "python"
    }
  },
  "cells": [
    {
      "cell_type": "markdown",
      "metadata": {
        "id": "view-in-github",
        "colab_type": "text"
      },
      "source": [
        "<a href=\"https://colab.research.google.com/github/TSHABBA01/JavaPrograms/blob/main/Untitled6.ipynb\" target=\"_parent\"><img src=\"https://colab.research.google.com/assets/colab-badge.svg\" alt=\"Open In Colab\"/></a>"
      ]
    },
    {
      "cell_type": "code",
      "execution_count": null,
      "metadata": {
        "id": "UuBDfismA0gH"
      },
      "outputs": [],
      "source": [
        "import pandas as pd\n",
        "import numpy as np\n",
        "from sklearn.model_selection import train_test_split\n",
        "from sklearn.preprocessing import MinMaxScaler, OneHotEncoder\n",
        "from sklearn.neural_network import MLPRegressor\n",
        "from sklearn.metrics import accuracy_score\n",
        "\n",
        "# Load and prepare the Iris dataset\n",
        "df = pd.read_excel('Iris.xls')\n",
        "df.columns = ['sepal_length', 'sepal_width', 'petal_length', 'petal_width', 'species']\n",
        "\n",
        "X = df[['sepal_length', 'sepal_width', 'petal_length', 'petal_width']].values\n",
        "y = df[['species']].values\n",
        "\n",
        "# 2a) Normalise features using max-min normalisation\n",
        "scaler = MinMaxScaler()\n",
        "X_scaled = scaler.fit_transform(X)\n",
        "\n",
        "# 2b) One-hot encoding of the target values\n",
        "encoder = OneHotEncoder(sparse_output=False)\n",
        "y_encoded = encoder.fit_transform(y)\n",
        "\n",
        "# 3) Split into train (60%), val (20%), test (20%)\n",
        "X_train, X_temp, y_train, y_temp = train_test_split(\n",
        "    X_scaled, y_encoded, test_size=0.4, random_state=42, stratify=y_encoded)\n",
        "\n",
        "X_val, X_test, y_val, y_test = train_test_split(\n",
        "    X_temp, y_temp, test_size=0.5, random_state=42, stratify=y_temp)\n",
        "\n",
        "# 1) Create the neural network (input: 4, hidden: 20, output: 3)\n",
        "mlp = MLPRegressor(hidden_layer_sizes=(20,), activation='relu',\n",
        "                   solver='adam', max_iter=1, warm_start=True, random_state=42)\n",
        "\n",
        "# 4 & 5) Train the model manually over multiple epochs\n",
        "epochs = 480\n",
        "for epoch in range(epochs):\n",
        "    mlp.fit(X_train, y_train)\n",
        "\n",
        "    train_pred = mlp.predict(X_train)\n",
        "    val_pred = mlp.predict(X_val)\n",
        "\n",
        "    train_loss = np.sum((train_pred - y_train) ** 2)\n",
        "    val_loss = np.sum((val_pred - y_val) ** 2)\n",
        "\n",
        "    print(f\"Epoch {epoch+1:03d}: Train Loss = {train_loss:.4f}, Validation Loss = {val_loss:.4f}\")\n",
        "\n",
        "# Evaluate on test set\n",
        "test_pred = mlp.predict(X_test)\n",
        "test_pred_labels = np.argmax(test_pred, axis=1)\n",
        "y_test_labels = np.argmax(y_test, axis=1)\n",
        "\n",
        "# 6) Print accuracy on the test set\n",
        "test_accuracy = accuracy_score(y_test_labels, test_pred_labels)\n",
        "print(f\"\\nTest Accuracy: {test_accuracy * 100:.2f}%\")"
      ]
    }
  ]
}