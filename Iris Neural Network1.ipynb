{
  "nbformat": 4,
  "nbformat_minor": 0,
  "metadata": {
    "colab": {
      "provenance": [],
      "authorship_tag": "ABX9TyNm8fZKKiAgkUt38iD78Qbs",
      "include_colab_link": true
    },
    "kernelspec": {
      "name": "python3",
      "display_name": "Python 3"
    },
    "language_info": {
      "name": "python"
    }
  },
  "cells": [
    {
      "cell_type": "markdown",
      "metadata": {
        "id": "view-in-github",
        "colab_type": "text"
      },
      "source": [
        "<a href=\"https://colab.research.google.com/github/TSHABBA01/JavaPrograms/blob/main/Iris%20Neural%20Network1.ipynb\" target=\"_parent\"><img src=\"https://colab.research.google.com/assets/colab-badge.svg\" alt=\"Open In Colab\"/></a>"
      ]
    },
    {
      "cell_type": "code",
      "execution_count": null,
      "metadata": {
        "id": "8tQcaFkYEKFh",
        "colab": {
          "base_uri": "https://localhost:8080/"
        },
        "outputId": "18899bed-e2c3-4b47-c403-1b060a1a129e"
      },
      "outputs": [
        {
          "output_type": "stream",
          "name": "stdout",
          "text": [
            "Fold 1 Test Accuracy: 100.00%\n",
            "Fold 2 Test Accuracy: 100.00%\n",
            "Fold 3 Test Accuracy: 90.00%\n",
            "Fold 4 Test Accuracy: 100.00%\n",
            "Fold 5 Test Accuracy: 96.67%\n",
            "\n",
            "Average Test Accuracy: 97.33%\n",
            "\n",
            "Training accuracy on full dataset: 98.00%\n"
          ]
        }
      ],
      "source": [
        "import pandas as pd\n",
        "import numpy as np\n",
        "from sklearn.preprocessing import MinMaxScaler, LabelEncoder\n",
        "from sklearn.neural_network import MLPClassifier\n",
        "from sklearn.metrics import accuracy_score\n",
        "from sklearn.model_selection import StratifiedKFold\n",
        "\n",
        "# Load dataset\n",
        "iris_df = pd.read_excel('Iris.xls')\n",
        "iris_df.columns = ['sepal_length', 'sepal_width', 'petal_length', 'petal_width', 'species']\n",
        "\n",
        "# Features and target\n",
        "X = iris_df[['sepal_length', 'sepal_width', 'petal_length', 'petal_width']].values\n",
        "y = iris_df['species'].values\n",
        "\n",
        "# Normalize\n",
        "scaler = MinMaxScaler()\n",
        "X_normalized = scaler.fit_transform(X)\n",
        "\n",
        "# Encode labels\n",
        "label_encoder = LabelEncoder()\n",
        "y_encoded = label_encoder.fit_transform(y)\n",
        "\n",
        "# Stratified K-Fold Cross Validation\n",
        "skf = StratifiedKFold(n_splits=5, shuffle=True, random_state=42)\n",
        "fold_accuracies = []\n",
        "\n",
        "for fold, (train_idx, test_idx) in enumerate(skf.split(X_normalized, y_encoded), 1):\n",
        "    X_train, X_test = X_normalized[train_idx], X_normalized[test_idx]\n",
        "    y_train, y_test = y_encoded[train_idx], y_encoded[test_idx]\n",
        "\n",
        "    mlp = MLPClassifier(hidden_layer_sizes=(50, 30),\n",
        "                        activation='relu',\n",
        "                        solver='adam',\n",
        "                        max_iter=2000,\n",
        "                        random_state=42)\n",
        "    mlp.fit(X_train, y_train)\n",
        "\n",
        "    y_pred = mlp.predict(X_test)\n",
        "    acc = accuracy_score(y_test, y_pred)\n",
        "    fold_accuracies.append(acc)\n",
        "    print(f\"Fold {fold} Test Accuracy: {acc * 100:.2f}%\")\n",
        "\n",
        "print(f\"\\nAverage Test Accuracy: {np.mean(fold_accuracies) * 100:.2f}%\")\n",
        "\n",
        "# Train on full data to check training accuracy (should be 100%)\n",
        "mlp_full = MLPClassifier(hidden_layer_sizes=(50, 30),\n",
        "                         activation='relu',\n",
        "                         solver='adam',\n",
        "                         max_iter=2000,\n",
        "                         random_state=42)\n",
        "mlp_full.fit(X_normalized, y_encoded)\n",
        "train_pred_full = mlp_full.predict(X_normalized)\n",
        "train_acc_full = accuracy_score(y_encoded, train_pred_full)\n",
        "print(f\"\\nTraining accuracy on full dataset: {train_acc_full * 100:.2f}%\")\n",
        "\n",
        "\n"
      ]
    },
    {
      "cell_type": "code",
      "source": [
        "from google.colab import drive\n",
        "drive.mount('/content/drive')"
      ],
      "metadata": {
        "id": "4kAwasQ9E-R9"
      },
      "execution_count": null,
      "outputs": []
    }
  ]
}